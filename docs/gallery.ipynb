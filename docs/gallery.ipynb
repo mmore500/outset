{
 "cells": [
  {
   "cell_type": "markdown",
   "metadata": {},
   "source": [
    "# Gallery"
   ]
  },
  {
   "cell_type": "code",
   "execution_count": null,
   "metadata": {},
   "outputs": [],
   "source": [
    "from matplotlib import cbook as mpl_cbook\n",
    "from matplotlib import pyplot as plt\n",
    "import numpy as np\n",
    "import outset as otst\n",
    "from outset import mark as otst_mark\n",
    "from outset import patched as otst_patched\n",
    "from outset import tweak as otst_tweak\n",
    "from outset import util as otst_util\n",
    "import pandas as pd\n",
    "import seaborn as sns"
   ]
  },
  {
   "cell_type": "markdown",
   "metadata": {},
   "source": [
    "## Taxonomy"
   ]
  },
  {
   "cell_type": "code",
   "execution_count": null,
   "metadata": {},
   "outputs": [],
   "source": [
    "# Create sample data with a 'outset' column for grouping\n",
    "data = pd.DataFrame(\n",
    "    {\n",
    "        \"x\": [0, 2, 5.8, 6],\n",
    "        \"y\": [1, 4, 8, 9],\n",
    "        \"outset\": [\n",
    "            \"group1\",\n",
    "            \"group1\",\n",
    "            \"group2\",\n",
    "            \"group2\",\n",
    "        ],\n",
    "    }\n",
    ")\n",
    "\n",
    "og = otst.OutsetGrid(\n",
    "    data=data,\n",
    "    x=\"x\",\n",
    "    y=\"y\",\n",
    "    col=\"outset\",\n",
    "    hue=\"outset\",\n",
    "    marqueeplot_kwargs={\"mark_glyph_kwargs\": {\"markersize\": 15}},\n",
    ")\n",
    "og.marqueeplot()\n",
    "\n",
    "og.source_axes.annotate(\n",
    "    \"callout mark\",\n",
    "    xy=(3, 4.5),\n",
    "    xytext=(3.5, 3.5),\n",
    "    horizontalalignment=\"left\",\n",
    "    arrowprops=dict(arrowstyle=\"->\", lw=1),\n",
    ")\n",
    "og.source_axes.annotate(\n",
    "    \"callout leader\",\n",
    "    xy=(2.5, 3.5),\n",
    "    xytext=(3.5, 2.5),\n",
    "    horizontalalignment=\"left\",\n",
    "    arrowprops=dict(arrowstyle=\"->\", lw=1),\n",
    ")\n",
    "og.source_axes.annotate(\n",
    "    \"frame\",\n",
    "    xy=(1, 2),\n",
    "    xytext=(1, 2),\n",
    "    horizontalalignment=\"center\",\n",
    ")\n",
    "og.source_axes.annotate(\n",
    "    \"marquee\",\n",
    "    xy=(1.5, 6),\n",
    "    xytext=(1.5, 6.5),\n",
    "    ha=\"center\",\n",
    "    va=\"bottom\",\n",
    "    arrowprops=dict(\n",
    "        arrowstyle=\"-[, widthB=4.0, lengthB=1.0\", lw=2.0, color=\"k\"\n",
    "    ),\n",
    ")\n",
    "og.broadcast_source(lambda ax: ax.set_title(\"source axes\"))\n",
    "og.broadcast_outset(lambda ax: ax.set_title(\"outset axes\"))\n",
    "\n",
    "display(og.figure)  # because this example draws same figure multiple times...\n",
    "\n",
    "otst.inset_outsets(og, insets=\"NW\")\n",
    "og.source_axes.annotate(\n",
    "    \"inset\\noutset\\naxes\",\n",
    "    xy=(3.5, 9.5),\n",
    "    xytext=(3.9, 9.5),\n",
    "    clip_on=False,\n",
    "    ha=\"left\",\n",
    "    va=\"center\",\n",
    "    arrowprops=dict(\n",
    "        arrowstyle=\"-[, widthB=1.5, lengthB=0.5\", lw=2.0, color=\"k\"\n",
    "    ),\n",
    ")\n",
    "og.source_axes.annotate(\n",
    "    \"\",\n",
    "    xy=(2.5, 11.1),\n",
    "    xytext=(2.5, 11.2),\n",
    "    clip_on=False,\n",
    "    ha=\"center\",\n",
    "    va=\"bottom\",\n",
    "    arrowprops=dict(arrowstyle=\"-[, widthB=10, lengthB=0.5\", lw=2.0, color=\"k\"),\n",
    "    annotation_clip=False,\n",
    ")\n",
    "pass"
   ]
  },
  {
   "cell_type": "markdown",
   "metadata": {},
   "source": [
    "## Outset Grid"
   ]
  },
  {
   "cell_type": "code",
   "execution_count": null,
   "metadata": {},
   "outputs": [],
   "source": [
    "og = otst.OutsetGrid(\n",
    "    data=sns.load_dataset(\"penguins\").dropna(),\n",
    "    x=\"bill_length_mm\",\n",
    "    y=\"bill_depth_mm\",\n",
    "    col=\"species\",\n",
    "    hue=\"species\",\n",
    "    marqueeplot_kwargs={\"mark_glyph\": otst_mark.MarkRomanBadges},\n",
    "    marqueeplot_source_kwargs={\n",
    "        \"leader_tweak\": otst_tweak.TweakSpreadArea(\n",
    "            spread_factor=6, xlim=(47.5, 52)\n",
    "        ),\n",
    "    },\n",
    ")\n",
    "og.map_dataframe(\n",
    "    sns.scatterplot, x=\"bill_length_mm\", y=\"bill_depth_mm\", legend=False\n",
    ")\n",
    "og.marqueeplot()\n",
    "og.set_axis_labels(\"bill length (mm)\", \"bill depth (mm)\")\n",
    "og.add_legend()\n",
    "\n",
    "pass"
   ]
  },
  {
   "cell_type": "markdown",
   "metadata": {},
   "source": [
    "Note the use of `TweakSpreadArea` on the area containing the *i*, *iii*, and *v* markers to push them apart."
   ]
  },
  {
   "cell_type": "code",
   "execution_count": null,
   "metadata": {},
   "outputs": [],
   "source": [
    "og = otst.OutsetGrid(\n",
    "    data=sns.load_dataset(\"penguins\").dropna(),\n",
    "    x=\"bill_length_mm\",\n",
    "    y=\"bill_depth_mm\",\n",
    "    col=\"island\",\n",
    "    hue=\"species\",\n",
    "    marqueeplot_kwargs={\"mark_glyph\": otst_mark.MarkRomanBadges},\n",
    "    marqueeplot_source_kwargs={\n",
    "        \"leader_face_kwargs\": {\"alpha\": 0.2},\n",
    "        \"leader_tweak\": otst_tweak.TweakSpreadArea(\n",
    "            spread_factor=(2, 2.5),\n",
    "            xlim=(45.5, 52),\n",
    "            ylim=(21, 24),\n",
    "        ),\n",
    "    },\n",
    ")\n",
    "og.map_dataframe(\n",
    "    sns.scatterplot, x=\"bill_length_mm\", y=\"bill_depth_mm\", legend=False\n",
    ")\n",
    "og.marqueeplot()\n",
    "og.set_axis_labels(\"bill length (mm)\", \"bill depth (mm)\")\n",
    "og.add_legend()\n",
    "\n",
    "pass"
   ]
  },
  {
   "cell_type": "markdown",
   "metadata": {},
   "source": [
    "Again, but with the marquee frame fill and source plot axes disabled."
   ]
  },
  {
   "cell_type": "code",
   "execution_count": null,
   "metadata": {},
   "outputs": [],
   "source": [
    "og = otst.OutsetGrid(\n",
    "    data=sns.load_dataset(\"penguins\").dropna(),\n",
    "    x=\"bill_length_mm\",\n",
    "    y=\"bill_depth_mm\",\n",
    "    col=\"island\",\n",
    "    hue=\"species\",\n",
    "    include_sourceplot=False,\n",
    "    marqueeplot_kwargs={\n",
    "        \"frame_face_kwargs\": {\"alpha\": 0.0},\n",
    "    },\n",
    ")\n",
    "og.map_dataframe(\n",
    "    sns.scatterplot, x=\"bill_length_mm\", y=\"bill_depth_mm\", legend=False\n",
    ")\n",
    "og.marqueeplot()\n",
    "og.add_legend()\n",
    "\n",
    "pass"
   ]
  },
  {
   "cell_type": "code",
   "execution_count": null,
   "metadata": {},
   "outputs": [],
   "source": [
    "og = otst.OutsetGrid(\n",
    "    data=sns.load_dataset(\"iris\").dropna(),\n",
    "    x=\"petal_width\",\n",
    "    y=\"petal_length\",\n",
    "    col=\"species\",\n",
    "    col_wrap=2,\n",
    "    color=sns.color_palette()[1],\n",
    "    marqueeplot_kwargs={\n",
    "        \"mark_glyph\": otst.mark.MarkAlphabeticalBadges,\n",
    "    },\n",
    "    marqueeplot_source_kwargs={\"leader_tweak\": otst_tweak.TweakReflect()},\n",
    "    marqueeplot_outset_kwargs={\n",
    "        \"leader_tweak\": otst_tweak.TweakReflect(vertical=True)\n",
    "    },\n",
    ")\n",
    "og.map_dataframe(\n",
    "    sns.kdeplot, x=\"petal_width\", y=\"petal_length\", legend=False, zorder=0\n",
    ")\n",
    "og.map_dataframe_outset(\n",
    "    sns.scatterplot,\n",
    "    x=\"petal_width\",\n",
    "    y=\"petal_length\",\n",
    "    legend=False,\n",
    "    zorder=0,\n",
    ")\n",
    "og.marqueeplot()\n",
    "\n",
    "pass"
   ]
  },
  {
   "cell_type": "markdown",
   "metadata": {},
   "source": [
    "Note that `ncol` is not used."
   ]
  },
  {
   "cell_type": "code",
   "execution_count": null,
   "metadata": {},
   "outputs": [],
   "source": [
    "og = otst.OutsetGrid(\n",
    "    data=sns.load_dataset(\"iris\").dropna(),\n",
    "    x=\"petal_width\",\n",
    "    y=\"petal_length\",\n",
    "    col=\"species\",\n",
    "    color=sns.color_palette()[1],\n",
    "    marqueeplot_kwargs={\n",
    "        \"mark_glyph\": otst.mark.MarkAlphabeticalBadges,\n",
    "    },\n",
    "    marqueeplot_source_kwargs={\"leader_tweak\": otst_tweak.TweakReflect()},\n",
    "    marqueeplot_outset_kwargs={\n",
    "        \"leader_tweak\": otst_tweak.TweakReflect(vertical=True)\n",
    "    },\n",
    ")\n",
    "og.map_dataframe_source(\n",
    "    sns.kdeplot, x=\"petal_width\", y=\"petal_length\", legend=False, zorder=0\n",
    ")\n",
    "og.map_dataframe_outset(\n",
    "    sns.kdeplot,\n",
    "    x=\"petal_width\",\n",
    "    y=\"petal_length\",\n",
    "    fill=True,\n",
    "    legend=False,\n",
    "    zorder=0,\n",
    ")\n",
    "otst.inset_outsets(og, insets=\"SE\")  # <--- insets our outsets, w/ auto location\n",
    "og.marqueeplot()\n",
    "\n",
    "pass"
   ]
  },
  {
   "cell_type": "markdown",
   "metadata": {},
   "source": [
    "## Manual Outset Selection"
   ]
  },
  {
   "cell_type": "markdown",
   "metadata": {},
   "source": [
    "Note the use of `OutsetGrid.broadcast`"
   ]
  },
  {
   "cell_type": "code",
   "execution_count": null,
   "metadata": {},
   "outputs": [],
   "source": [
    "og = otst.OutsetGrid(\n",
    "    aspect=2,\n",
    "    data=[(210, 6, 250, 12)],\n",
    "    col_wrap=1,\n",
    "    x=\"days\",\n",
    "    y=\"profit\",\n",
    ")\n",
    "\n",
    "rs = np.random.RandomState(365)\n",
    "values = rs.randn(365, 4).cumsum(axis=0)\n",
    "dates = np.array(range(365))\n",
    "data = pd.DataFrame(values, dates, columns=[\"A\", \"B\", \"C\", \"D\"])\n",
    "data = data.rolling(7).mean()\n",
    "\n",
    "og.broadcast(\n",
    "    sns.lineplot,\n",
    "    data=data,\n",
    "    palette=\"tab10\",\n",
    "    linewidth=2.5,\n",
    "    zorder=-1,\n",
    ")\n",
    "og.marqueeplot()\n",
    "pass"
   ]
  },
  {
   "cell_type": "markdown",
   "metadata": {},
   "source": [
    "## Image Annotation"
   ]
  },
  {
   "cell_type": "markdown",
   "metadata": {},
   "source": [
    "As much fun as we might have with narrow and/or wide Grace Hopper..."
   ]
  },
  {
   "cell_type": "code",
   "execution_count": null,
   "metadata": {},
   "outputs": [],
   "source": [
    "# example of bad image aspects\n",
    "with mpl_cbook.get_sample_data(\"grace_hopper.jpg\") as image_file:\n",
    "    image = plt.imread(image_file)\n",
    "\n",
    "fig, axs = plt.subplots(1, 2)\n",
    "\n",
    "axs[0].imshow(image, aspect=7, extent=(0, 1, 0, 1), origin=\"upper\", zorder=-1)\n",
    "axs[0].set_axis_off()\n",
    "axs[1].imshow(image, aspect=0.3, extent=(0, 1, 0, 1), origin=\"upper\", zorder=-1)\n",
    "axs[1].set_axis_off()\n",
    "pass"
   ]
  },
  {
   "cell_type": "markdown",
   "metadata": {},
   "source": [
    "... usually we want to make sure images keep their natural aspect ratio.\n",
    "Luckily, `OutsetGrid` can take care of that for us --- and will do so by default in most cases."
   ]
  },
  {
   "cell_type": "code",
   "execution_count": null,
   "metadata": {},
   "outputs": [],
   "source": [
    "with mpl_cbook.get_sample_data(\"grace_hopper.jpg\") as image_file:\n",
    "    image = plt.imread(image_file)\n",
    "\n",
    "og = otst.OutsetGrid(\n",
    "    data=otst_util.NamedFrames(\n",
    "        {\n",
    "            \"hat\": (0.42, 0.78, 0.62, 0.98),\n",
    "            \"badge\": (0.10, 0.14, 0.40, 0.21),\n",
    "        }\n",
    "    ),\n",
    "    aspect=0.9,\n",
    "    col=\"swag\",\n",
    "    hue=\"swag\",\n",
    ")\n",
    "og.broadcast(lambda: plt.axis(\"off\"))\n",
    "og.broadcast(plt.imshow, image, extent=(0, 1, 0, 1), origin=\"upper\", zorder=-1)\n",
    "og.marqueeplot()\n",
    "og.source_axes.set_title(\"The Hopster\", loc=\"left\")\n",
    "\n",
    "pass"
   ]
  },
  {
   "cell_type": "markdown",
   "metadata": {},
   "source": [
    "Now, with the source axes disabled.\n",
    "Note the `equalize_aspect=False`, `preserve_aspect=True` kwargs added to `OutsetGrid.marqueeplot`."
   ]
  },
  {
   "cell_type": "code",
   "execution_count": null,
   "metadata": {},
   "outputs": [],
   "source": [
    "with mpl_cbook.get_sample_data(\"grace_hopper.jpg\") as image_file:\n",
    "    image = plt.imread(image_file)\n",
    "\n",
    "og = otst.OutsetGrid(\n",
    "    data=otst_util.NamedFrames(\n",
    "        {\n",
    "            \"hat\": (0.42, 0.78, 0.62, 0.98),\n",
    "            \"badge\": (0.10, 0.14, 0.40, 0.21),\n",
    "        }\n",
    "    ),\n",
    "    aspect=0.9,\n",
    "    col=\"swag\",\n",
    "    hue=\"swag\",\n",
    "    marqueeplot_kwargs={\n",
    "        \"mark_glyph\": otst_mark.MarkMagnifyingGlass(),\n",
    "        \"mark_glyph_kwargs\": {\"markersize\": 25},\n",
    "    },\n",
    "    include_sourceplot=False,\n",
    ")\n",
    "og.set_titles(\"\")\n",
    "og.broadcast(lambda: plt.axis(\"off\"))\n",
    "og.broadcast(plt.imshow, image, extent=(0, 1, 0, 1), origin=\"upper\", zorder=-1)\n",
    "og.marqueeplot(equalize_aspect=False, preserve_aspect=True)\n",
    "og.add_legend()\n",
    "\n",
    "pass"
   ]
  },
  {
   "cell_type": "markdown",
   "metadata": {},
   "source": [
    "Image outsets can be inset as before by applying `outset.inset_outsets` to our `OutsetGrid`.\n",
    "Note the manual override for scaling and positioning of insets over the source plot."
   ]
  },
  {
   "cell_type": "code",
   "execution_count": null,
   "metadata": {},
   "outputs": [],
   "source": [
    "with mpl_cbook.get_sample_data(\"grace_hopper.jpg\") as image_file:\n",
    "    image = plt.imread(image_file)\n",
    "\n",
    "og = otst.OutsetGrid(\n",
    "    data=[(0.42, 0.78, 0.62, 0.98), (0.10, 0.14, 0.40, 0.21)],\n",
    "    aspect=0.9,\n",
    "    height=5,\n",
    "    marqueeplot_kwargs={\n",
    "        \"frame_inner_pad\": 0.0,\n",
    "        \"frame_outer_pad\": 0.05,\n",
    "        \"frame_outer_pad_unit\": \"inches\",\n",
    "        \"frame_edge_kwargs\": {\"linewidth\": 4, \"linestyle\": \"-\"},\n",
    "        \"leader_edge_kwargs\": {\"linewidth\": 2, \"linestyle\": \"-\"},\n",
    "        \"leader_face_kwargs\": {\"alpha\": 1.0},\n",
    "        \"mark_glyph_kwargs\": {\"markersize\": 20},\n",
    "    },\n",
    "    marqueeplot_source_kwargs={\n",
    "        \"leader_stretch\": 0.4,\n",
    "        \"leader_stretch_unit\": \"inches\",\n",
    "        \"mark_glyph_kwargs\": {\"markersize\": 30},\n",
    "    },\n",
    "    palette=sns.color_palette()[8:],\n",
    ")\n",
    "og.source_axes.set_axis_off()\n",
    "og.broadcast(plt.imshow, image, extent=(0, 1, 0, 1), origin=\"upper\", zorder=-1)\n",
    "otst.inset_outsets(\n",
    "    og,\n",
    "    insets=[  # note manual inset position/scaling as (x0, xy0, width, height)\n",
    "        (0.02, 0.53, 0.50, 0.44),\n",
    "        (0.05, 0.28, 0.9, 0.23),\n",
    "    ],\n",
    ")\n",
    "og.marqueeplot()\n",
    "\n",
    "pass"
   ]
  },
  {
   "cell_type": "markdown",
   "metadata": {},
   "source": [
    "## Uncoupling Aspect Ratios"
   ]
  },
  {
   "cell_type": "markdown",
   "metadata": {},
   "source": [
    "Under default settings, `outset` will synchronize outset aspect ratios to the source axes for all plots --- not just images.\n",
    "Synchronized aspect ratios allows for intuitive comparison between outsets with the source plot.\n",
    "However, this may not be desired in some cases --- for example, to allow for \"better\" zoom when aspect is narrow.\n",
    "\n",
    "To turn off aspect ratio synchronization, use `equalize_aspect=False` kwarg for `OutsetGrid.marqueeplot`."
   ]
  },
  {
   "cell_type": "code",
   "execution_count": null,
   "metadata": {},
   "outputs": [],
   "source": [
    "og = otst.OutsetGrid(\n",
    "    data=[(73.5, 23.5, 78.5, 31.5)],\n",
    "    color=sns.color_palette()[-1],\n",
    "    marqueeplot_kwargs={\n",
    "        \"mark_glyph\": otst.mark.MarkAlphabeticalBadges(start=\"A\"),\n",
    "        \"frame_outer_pad\": 0.2,\n",
    "        \"frame_outer_pad_unit\": \"inches\",\n",
    "        \"frame_face_kwargs\": {\"facecolor\": \"none\"},\n",
    "    },\n",
    ")\n",
    "og.broadcast(\n",
    "    sns.scatterplot,\n",
    "    data=sns.load_dataset(\"mpg\").dropna(),\n",
    "    x=\"horsepower\",\n",
    "    y=\"mpg\",\n",
    "    hue=\"origin\",\n",
    "    size=\"weight\",\n",
    "    sizes=(40, 400),\n",
    "    alpha=0.5,\n",
    "    palette=\"muted\",\n",
    "    zorder=0,\n",
    ")\n",
    "og.marqueeplot(equalize_aspect=False)\n",
    "og.add_legend()\n",
    "og.set_titles(\"\")\n",
    "\n",
    "pass"
   ]
  },
  {
   "cell_type": "markdown",
   "metadata": {},
   "source": [
    "If we inset outset axes, note that the call to `OutsetGrid.marqueeplot` is after `inset_outsets`."
   ]
  },
  {
   "cell_type": "code",
   "execution_count": null,
   "metadata": {},
   "outputs": [],
   "source": [
    "plt.close(\"all\")\n",
    "og = otst.OutsetGrid(\n",
    "    aspect=1.6,\n",
    "    data=[\n",
    "        (73.5, 23.5, 78.5, 31.5),\n",
    "        (58.5, 30.5, 65.5, 38.5),\n",
    "    ],\n",
    "    color=sns.color_palette()[-1],\n",
    "    marqueeplot_kwargs={\n",
    "        \"mark_glyph\": otst.mark.MarkAlphabeticalBadges(start=\"A\"),\n",
    "        \"frame_outer_pad\": 0.2,\n",
    "        \"frame_outer_pad_unit\": \"inches\",\n",
    "        \"frame_edge_kwargs\": {\"lw\": 1, \"ec\": \"k\"},\n",
    "        \"frame_face_kwargs\": {\"facecolor\": \"none\"},\n",
    "        \"leader_edge_kwargs\": {\"lw\": 1, \"ec\": \"k\", \"alpha\": 0.5},\n",
    "        \"leader_face_kwargs\": {\"alpha\": 0.8, \"zorder\": -2},\n",
    "        \"leader_stretch\": 1,\n",
    "    },\n",
    "    marqueeplot_outset_kwargs={\n",
    "        \"frame_outer_pad\": 0.1,\n",
    "        \"frame_outer_pad_unit\": \"axes\",\n",
    "        \"leader_face_kwargs\": {\"alpha\": 1.0},\n",
    "        \"leader_stretch\": 0.15,\n",
    "        \"leader_stretch_unit\": \"inches\",\n",
    "    },\n",
    ")\n",
    "og.broadcast(\n",
    "    sns.scatterplot,\n",
    "    data=sns.load_dataset(\"mpg\").dropna(),\n",
    "    x=\"horsepower\",\n",
    "    y=\"mpg\",\n",
    "    hue=\"origin\",\n",
    "    size=\"weight\",\n",
    "    sizes=(40, 400),\n",
    "    alpha=0.5,\n",
    "    palette=\"muted\",\n",
    "    zorder=0,\n",
    ")\n",
    "sns.move_legend(og.source_axes, loc=\"center left\", bbox_to_anchor=(1, 0.5))\n",
    "otst.inset_outsets(og, equalize_aspect=False)\n",
    "og.marqueeplot(equalize_aspect=False)\n",
    "og.set_titles(\"\")\n",
    "\n",
    "pass"
   ]
  },
  {
   "cell_type": "markdown",
   "metadata": {},
   "source": [
    "## Faceted Regressions"
   ]
  },
  {
   "cell_type": "markdown",
   "metadata": {},
   "source": [
    "Use `outset.patched.regplot` for facet-capable seaborn regressions."
   ]
  },
  {
   "cell_type": "code",
   "execution_count": null,
   "metadata": {},
   "outputs": [],
   "source": [
    "og = otst.OutsetGrid(\n",
    "    data=sns.load_dataset(\"iris\"),\n",
    "    x=\"petal_length\",\n",
    "    y=\"petal_width\",\n",
    "    col=\"species\",\n",
    "    hue=\"species\",\n",
    "    col_wrap=2,\n",
    "    marqueeplot_source_kwargs={\n",
    "        \"leader_stretch\": 0.07,\n",
    "        \"mark_retract\": 0.25,\n",
    "    },\n",
    "    zorder=4,\n",
    ")\n",
    "\n",
    "og.map_dataframe_source(\n",
    "    sns.kdeplot,\n",
    "    x=\"petal_length\",\n",
    "    y=\"petal_width\",\n",
    "    legend=False,\n",
    ")\n",
    "og.map_dataframe_outset(\n",
    "    otst_patched.regplot,\n",
    "    x=\"petal_length\",\n",
    "    y=\"petal_width\",\n",
    ")\n",
    "og.marqueeplot()\n",
    "og.add_legend()\n",
    "\n",
    "pass"
   ]
  },
  {
   "cell_type": "markdown",
   "metadata": {},
   "source": [
    "## Axes-level Interfaces"
   ]
  },
  {
   "cell_type": "markdown",
   "metadata": {},
   "source": [
    "Use `marqueeplot` for tidy data/seaborn-like application of marquee annotations to a single `Axes`."
   ]
  },
  {
   "cell_type": "code",
   "execution_count": null,
   "metadata": {},
   "outputs": [],
   "source": [
    "fix, ax = plt.subplots(1)\n",
    "otst.marqueeplot(\n",
    "    data=sns.load_dataset(\"iris\"),\n",
    "    x=\"petal_length\",\n",
    "    y=\"petal_width\",\n",
    "    hue=\"species\",\n",
    "    ax=ax,\n",
    "    leader_stretch=0.4,\n",
    "    leader_tweak=otst_tweak.TweakReflect(vertical=True),\n",
    ")\n",
    "sns.scatterplot(\n",
    "    data=sns.load_dataset(\"iris\"),\n",
    "    x=\"petal_length\",\n",
    "    y=\"petal_width\",\n",
    "    hue=\"species\",\n",
    "    ax=ax,\n",
    ")\n",
    "\n",
    "pass"
   ]
  },
  {
   "cell_type": "markdown",
   "metadata": {},
   "source": [
    "Use `draw_marquee` to manually add individual annotations."
   ]
  },
  {
   "cell_type": "code",
   "execution_count": null,
   "metadata": {},
   "outputs": [],
   "source": [
    "df = sns.load_dataset(\"penguins\")\n",
    "\n",
    "fig, ax = plt.subplots(1)\n",
    "\n",
    "sns.kdeplot(\n",
    "    data=df,\n",
    "    x=\"body_mass_g\",\n",
    "    y=\"bill_depth_mm\",\n",
    "    ax=ax,\n",
    "    fill=True,\n",
    "    clip=((2200, 6800), (10, 25)),\n",
    "    thresh=0,\n",
    "    levels=100,\n",
    "    cmap=\"rocket\",\n",
    ")\n",
    "otst.draw_marquee(\n",
    "    (5200, 6000),\n",
    "    (14, 16),\n",
    "    ax,\n",
    "    color=\"teal\",\n",
    "    mark_glyph=otst_mark.MarkArrow(rotate_angle=-45),\n",
    "    leader_stretch_unit=\"inches\",\n",
    "    leader_stretch=0.2,\n",
    "    zorder=10,\n",
    ")\n",
    "ax.annotate(\"zoink?\", (6300, 17), color=\"teal\", zorder=5)\n",
    "pass"
   ]
  }
 ],
 "metadata": {
  "language_info": {
   "codemirror_mode": {
    "name": "ipython",
    "version": 3
   },
   "file_extension": ".py",
   "mimetype": "text/x-python",
   "name": "python",
   "nbconvert_exporter": "python",
   "pygments_lexer": "ipython3"
  }
 },
 "nbformat": 4,
 "nbformat_minor": 2
}
